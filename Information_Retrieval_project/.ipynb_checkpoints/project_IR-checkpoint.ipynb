{
 "cells": [
  {
   "cell_type": "code",
   "execution_count": 286,
   "id": "2ca96856",
   "metadata": {},
   "outputs": [],
   "source": [
    "import pandas as pd\n",
    "import numpy as np\n",
    "import pickle\n",
    "import sys\n",
    "from sklearn.feature_extraction.text import TfidfVectorizer\n",
    "import nltk\n",
    "from nltk.stem.porter import *\n",
    "import string\n",
    "import re\n",
    "from sklearn.linear_model import LogisticRegression\n",
    "from sklearn.feature_selection import SelectFromModel\n",
    "from sklearn.metrics import classification_report\n",
    "from sklearn.svm import LinearSVC\n",
    "import matplotlib.pyplot as plt\n",
    "import seaborn\n",
    "from sklearn.feature_extraction.text import CountVectorizer\n",
    "from sklearn.model_selection import train_test_split\n",
    "from sklearn.metrics import accuracy_score\n",
    "from sklearn.preprocessing import StandardScaler\n",
    "from sklearn.model_selection import cross_val_score\n",
    "from sklearn.naive_bayes import GaussianNB\n",
    "from sklearn.tree import DecisionTreeClassifier\n",
    "from sklearn.ensemble import RandomForestClassifier\n",
    "from sklearn.svm import LinearSVC\n",
    "import math\n",
    "from nltk.tokenize import word_tokenize, sent_tokenize\n"
   ]
  },
  {
   "cell_type": "code",
   "execution_count": 287,
   "id": "f290fd1b",
   "metadata": {},
   "outputs": [],
   "source": [
    "file_path_train_english = \"C:\\\\Users\\\\ALL\\\\IR project\\\\Offens Hate Detection\\\\english\\\\agr_en_dev.csv\"\n",
    "file_path_test_english = \"C:\\\\Users\\\\ALL\\\\IR project\\\\Offens Hate Detection\\\\trac-test-package\\\\agr_en_fb_test.csv\"\n",
    "file_path_test_validation = \"C:\\\\Users\\\\ALL\\\\IR project\\\\Offens Hate Detection\\\\trac-gold-set\\\\agr_en_fb_gold.csv\"\n",
    "df = pd.read_csv(file_path_train_english, header= None)\n",
    "df_test = pd.read_csv(file_path_test_english, header= None)\n",
    "df_test_validation = pd.read_csv(file_path_test_validation, header= None)"
   ]
  },
  {
   "cell_type": "code",
   "execution_count": 288,
   "id": "9fb2846d",
   "metadata": {},
   "outputs": [
    {
     "data": {
      "text/html": [
       "<div>\n",
       "<style scoped>\n",
       "    .dataframe tbody tr th:only-of-type {\n",
       "        vertical-align: middle;\n",
       "    }\n",
       "\n",
       "    .dataframe tbody tr th {\n",
       "        vertical-align: top;\n",
       "    }\n",
       "\n",
       "    .dataframe thead th {\n",
       "        text-align: right;\n",
       "    }\n",
       "</style>\n",
       "<table border=\"1\" class=\"dataframe\">\n",
       "  <thead>\n",
       "    <tr style=\"text-align: right;\">\n",
       "      <th></th>\n",
       "      <th>0</th>\n",
       "      <th>1</th>\n",
       "      <th>2</th>\n",
       "    </tr>\n",
       "  </thead>\n",
       "  <tbody>\n",
       "    <tr>\n",
       "      <th>0</th>\n",
       "      <td>facebook_corpus_msr_451811</td>\n",
       "      <td>The quality of re made now makes me think it i...</td>\n",
       "      <td>CAG</td>\n",
       "    </tr>\n",
       "    <tr>\n",
       "      <th>1</th>\n",
       "      <td>facebook_corpus_msr_334368</td>\n",
       "      <td>@siva \\nHow is ur mother???\\nHow is ur wife???...</td>\n",
       "      <td>NAG</td>\n",
       "    </tr>\n",
       "    <tr>\n",
       "      <th>2</th>\n",
       "      <td>facebook_corpus_msr_331195</td>\n",
       "      <td>Also see ....hw ur RSS activist caught in Burk...</td>\n",
       "      <td>NAG</td>\n",
       "    </tr>\n",
       "    <tr>\n",
       "      <th>3</th>\n",
       "      <td>facebook_corpus_msr_403402</td>\n",
       "      <td>On the death of 2 jawans in LOC CROSS FIRING\\n...</td>\n",
       "      <td>NAG</td>\n",
       "    </tr>\n",
       "    <tr>\n",
       "      <th>4</th>\n",
       "      <td>facebook_corpus_msr_379239</td>\n",
       "      <td>Modi ho ya Manmohan singh saala yeh log kuch n...</td>\n",
       "      <td>OAG</td>\n",
       "    </tr>\n",
       "    <tr>\n",
       "      <th>...</th>\n",
       "      <td>...</td>\n",
       "      <td>...</td>\n",
       "      <td>...</td>\n",
       "    </tr>\n",
       "    <tr>\n",
       "      <th>2996</th>\n",
       "      <td>facebook_corpus_msr_2111345</td>\n",
       "      <td>Gaddaron se to yahi sahi hain.</td>\n",
       "      <td>NAG</td>\n",
       "    </tr>\n",
       "    <tr>\n",
       "      <th>2997</th>\n",
       "      <td>facebook_corpus_msr_327007</td>\n",
       "      <td>Just saw this news\\n* read 1dt comment. \\n*smi...</td>\n",
       "      <td>CAG</td>\n",
       "    </tr>\n",
       "    <tr>\n",
       "      <th>2998</th>\n",
       "      <td>facebook_corpus_msr_1600567</td>\n",
       "      <td>U guys can crack jokes but can't take the crid...</td>\n",
       "      <td>CAG</td>\n",
       "    </tr>\n",
       "    <tr>\n",
       "      <th>2999</th>\n",
       "      <td>facebook_corpus_msr_1931139</td>\n",
       "      <td>These media fellows have time to dissect one's...</td>\n",
       "      <td>CAG</td>\n",
       "    </tr>\n",
       "    <tr>\n",
       "      <th>3000</th>\n",
       "      <td>facebook_corpus_msr_470220</td>\n",
       "      <td>Middle class is suffering, but most affected a...</td>\n",
       "      <td>NAG</td>\n",
       "    </tr>\n",
       "  </tbody>\n",
       "</table>\n",
       "<p>3001 rows × 3 columns</p>\n",
       "</div>"
      ],
      "text/plain": [
       "                                0  \\\n",
       "0      facebook_corpus_msr_451811   \n",
       "1      facebook_corpus_msr_334368   \n",
       "2      facebook_corpus_msr_331195   \n",
       "3      facebook_corpus_msr_403402   \n",
       "4      facebook_corpus_msr_379239   \n",
       "...                           ...   \n",
       "2996  facebook_corpus_msr_2111345   \n",
       "2997   facebook_corpus_msr_327007   \n",
       "2998  facebook_corpus_msr_1600567   \n",
       "2999  facebook_corpus_msr_1931139   \n",
       "3000   facebook_corpus_msr_470220   \n",
       "\n",
       "                                                      1    2  \n",
       "0     The quality of re made now makes me think it i...  CAG  \n",
       "1     @siva \\nHow is ur mother???\\nHow is ur wife???...  NAG  \n",
       "2     Also see ....hw ur RSS activist caught in Burk...  NAG  \n",
       "3     On the death of 2 jawans in LOC CROSS FIRING\\n...  NAG  \n",
       "4     Modi ho ya Manmohan singh saala yeh log kuch n...  OAG  \n",
       "...                                                 ...  ...  \n",
       "2996                     Gaddaron se to yahi sahi hain.  NAG  \n",
       "2997  Just saw this news\\n* read 1dt comment. \\n*smi...  CAG  \n",
       "2998  U guys can crack jokes but can't take the crid...  CAG  \n",
       "2999  These media fellows have time to dissect one's...  CAG  \n",
       "3000  Middle class is suffering, but most affected a...  NAG  \n",
       "\n",
       "[3001 rows x 3 columns]"
      ]
     },
     "execution_count": 288,
     "metadata": {},
     "output_type": "execute_result"
    }
   ],
   "source": [
    "df"
   ]
  },
  {
   "cell_type": "code",
   "execution_count": 289,
   "id": "64513ef6",
   "metadata": {},
   "outputs": [
    {
     "data": {
      "text/html": [
       "<div>\n",
       "<style scoped>\n",
       "    .dataframe tbody tr th:only-of-type {\n",
       "        vertical-align: middle;\n",
       "    }\n",
       "\n",
       "    .dataframe tbody tr th {\n",
       "        vertical-align: top;\n",
       "    }\n",
       "\n",
       "    .dataframe thead th {\n",
       "        text-align: right;\n",
       "    }\n",
       "</style>\n",
       "<table border=\"1\" class=\"dataframe\">\n",
       "  <thead>\n",
       "    <tr style=\"text-align: right;\">\n",
       "      <th></th>\n",
       "      <th>0</th>\n",
       "      <th>1</th>\n",
       "    </tr>\n",
       "  </thead>\n",
       "  <tbody>\n",
       "    <tr>\n",
       "      <th>0</th>\n",
       "      <td>facebook_corpus_msr_396174</td>\n",
       "      <td>If government of india don't take strict actio...</td>\n",
       "    </tr>\n",
       "    <tr>\n",
       "      <th>1</th>\n",
       "      <td>facebook_corpus_msr_422473</td>\n",
       "      <td>So now we know. The women should be under the ...</td>\n",
       "    </tr>\n",
       "    <tr>\n",
       "      <th>2</th>\n",
       "      <td>facebook_corpus_msr_341422</td>\n",
       "      <td>गद्दारो तुमसे ही तो खतरा है अबकी बार साफ हो जाओगे</td>\n",
       "    </tr>\n",
       "    <tr>\n",
       "      <th>3</th>\n",
       "      <td>facebook_corpus_msr_481654</td>\n",
       "      <td>Do you think markets are gonna be sideways til...</td>\n",
       "    </tr>\n",
       "    <tr>\n",
       "      <th>4</th>\n",
       "      <td>facebook_corpus_msr_427757</td>\n",
       "      <td>Jago Urjut Jago....\\nSave common people from\\n...</td>\n",
       "    </tr>\n",
       "    <tr>\n",
       "      <th>...</th>\n",
       "      <td>...</td>\n",
       "      <td>...</td>\n",
       "    </tr>\n",
       "    <tr>\n",
       "      <th>911</th>\n",
       "      <td>facebook_corpus_msr_322509</td>\n",
       "      <td>Where is that illegitimate kid o communists, c...</td>\n",
       "    </tr>\n",
       "    <tr>\n",
       "      <th>912</th>\n",
       "      <td>facebook_corpus_msr_397216</td>\n",
       "      <td>Anil Chaurasia galian men bhi de sakta hon kyu...</td>\n",
       "    </tr>\n",
       "    <tr>\n",
       "      <th>913</th>\n",
       "      <td>facebook_corpus_msr_466506</td>\n",
       "      <td>Never opened his mouth when PM..now he speaks....</td>\n",
       "    </tr>\n",
       "    <tr>\n",
       "      <th>914</th>\n",
       "      <td>facebook_corpus_msr_441285</td>\n",
       "      <td>Chit fund operators  n loan sharks r more honest</td>\n",
       "    </tr>\n",
       "    <tr>\n",
       "      <th>915</th>\n",
       "      <td>facebook_corpus_msr_466859</td>\n",
       "      <td>Bloody chela of Sonia. If he would have spoken...</td>\n",
       "    </tr>\n",
       "  </tbody>\n",
       "</table>\n",
       "<p>916 rows × 2 columns</p>\n",
       "</div>"
      ],
      "text/plain": [
       "                              0  \\\n",
       "0    facebook_corpus_msr_396174   \n",
       "1    facebook_corpus_msr_422473   \n",
       "2    facebook_corpus_msr_341422   \n",
       "3    facebook_corpus_msr_481654   \n",
       "4    facebook_corpus_msr_427757   \n",
       "..                          ...   \n",
       "911  facebook_corpus_msr_322509   \n",
       "912  facebook_corpus_msr_397216   \n",
       "913  facebook_corpus_msr_466506   \n",
       "914  facebook_corpus_msr_441285   \n",
       "915  facebook_corpus_msr_466859   \n",
       "\n",
       "                                                     1  \n",
       "0    If government of india don't take strict actio...  \n",
       "1    So now we know. The women should be under the ...  \n",
       "2    गद्दारो तुमसे ही तो खतरा है अबकी बार साफ हो जाओगे  \n",
       "3    Do you think markets are gonna be sideways til...  \n",
       "4    Jago Urjut Jago....\\nSave common people from\\n...  \n",
       "..                                                 ...  \n",
       "911  Where is that illegitimate kid o communists, c...  \n",
       "912  Anil Chaurasia galian men bhi de sakta hon kyu...  \n",
       "913  Never opened his mouth when PM..now he speaks....  \n",
       "914   Chit fund operators  n loan sharks r more honest  \n",
       "915  Bloody chela of Sonia. If he would have spoken...  \n",
       "\n",
       "[916 rows x 2 columns]"
      ]
     },
     "execution_count": 289,
     "metadata": {},
     "output_type": "execute_result"
    }
   ],
   "source": [
    "df_test"
   ]
  },
  {
   "cell_type": "code",
   "execution_count": 290,
   "id": "d2d1d6fb",
   "metadata": {},
   "outputs": [
    {
     "data": {
      "text/html": [
       "<div>\n",
       "<style scoped>\n",
       "    .dataframe tbody tr th:only-of-type {\n",
       "        vertical-align: middle;\n",
       "    }\n",
       "\n",
       "    .dataframe tbody tr th {\n",
       "        vertical-align: top;\n",
       "    }\n",
       "\n",
       "    .dataframe thead th {\n",
       "        text-align: right;\n",
       "    }\n",
       "</style>\n",
       "<table border=\"1\" class=\"dataframe\">\n",
       "  <thead>\n",
       "    <tr style=\"text-align: right;\">\n",
       "      <th></th>\n",
       "      <th>0</th>\n",
       "      <th>1</th>\n",
       "      <th>2</th>\n",
       "    </tr>\n",
       "  </thead>\n",
       "  <tbody>\n",
       "    <tr>\n",
       "      <th>0</th>\n",
       "      <td>facebook_corpus_msr_396174</td>\n",
       "      <td>If government of india don't take strict actio...</td>\n",
       "      <td>NAG</td>\n",
       "    </tr>\n",
       "    <tr>\n",
       "      <th>1</th>\n",
       "      <td>facebook_corpus_msr_422473</td>\n",
       "      <td>So now we know. The women should be under the ...</td>\n",
       "      <td>NAG</td>\n",
       "    </tr>\n",
       "    <tr>\n",
       "      <th>2</th>\n",
       "      <td>facebook_corpus_msr_341422</td>\n",
       "      <td>गद्दारो तुमसे ही तो खतरा है अबकी बार साफ हो जाओगे</td>\n",
       "      <td>NAG</td>\n",
       "    </tr>\n",
       "    <tr>\n",
       "      <th>3</th>\n",
       "      <td>facebook_corpus_msr_481654</td>\n",
       "      <td>Do you think markets are gonna be sideways til...</td>\n",
       "      <td>NAG</td>\n",
       "    </tr>\n",
       "    <tr>\n",
       "      <th>4</th>\n",
       "      <td>facebook_corpus_msr_427757</td>\n",
       "      <td>Jago Urjut Jago....\\nSave common people from\\n...</td>\n",
       "      <td>NAG</td>\n",
       "    </tr>\n",
       "    <tr>\n",
       "      <th>...</th>\n",
       "      <td>...</td>\n",
       "      <td>...</td>\n",
       "      <td>...</td>\n",
       "    </tr>\n",
       "    <tr>\n",
       "      <th>911</th>\n",
       "      <td>facebook_corpus_msr_322509</td>\n",
       "      <td>Where is that illegitimate kid o communists, c...</td>\n",
       "      <td>CAG</td>\n",
       "    </tr>\n",
       "    <tr>\n",
       "      <th>912</th>\n",
       "      <td>facebook_corpus_msr_397216</td>\n",
       "      <td>Anil Chaurasia galian men bhi de sakta hon kyu...</td>\n",
       "      <td>OAG</td>\n",
       "    </tr>\n",
       "    <tr>\n",
       "      <th>913</th>\n",
       "      <td>facebook_corpus_msr_466506</td>\n",
       "      <td>Never opened his mouth when PM..now he speaks....</td>\n",
       "      <td>OAG</td>\n",
       "    </tr>\n",
       "    <tr>\n",
       "      <th>914</th>\n",
       "      <td>facebook_corpus_msr_441285</td>\n",
       "      <td>Chit fund operators  n loan sharks r more honest</td>\n",
       "      <td>CAG</td>\n",
       "    </tr>\n",
       "    <tr>\n",
       "      <th>915</th>\n",
       "      <td>facebook_corpus_msr_466859</td>\n",
       "      <td>Bloody chela of Sonia. If he would have spoken...</td>\n",
       "      <td>OAG</td>\n",
       "    </tr>\n",
       "  </tbody>\n",
       "</table>\n",
       "<p>916 rows × 3 columns</p>\n",
       "</div>"
      ],
      "text/plain": [
       "                              0  \\\n",
       "0    facebook_corpus_msr_396174   \n",
       "1    facebook_corpus_msr_422473   \n",
       "2    facebook_corpus_msr_341422   \n",
       "3    facebook_corpus_msr_481654   \n",
       "4    facebook_corpus_msr_427757   \n",
       "..                          ...   \n",
       "911  facebook_corpus_msr_322509   \n",
       "912  facebook_corpus_msr_397216   \n",
       "913  facebook_corpus_msr_466506   \n",
       "914  facebook_corpus_msr_441285   \n",
       "915  facebook_corpus_msr_466859   \n",
       "\n",
       "                                                     1    2  \n",
       "0    If government of india don't take strict actio...  NAG  \n",
       "1    So now we know. The women should be under the ...  NAG  \n",
       "2    गद्दारो तुमसे ही तो खतरा है अबकी बार साफ हो जाओगे  NAG  \n",
       "3    Do you think markets are gonna be sideways til...  NAG  \n",
       "4    Jago Urjut Jago....\\nSave common people from\\n...  NAG  \n",
       "..                                                 ...  ...  \n",
       "911  Where is that illegitimate kid o communists, c...  CAG  \n",
       "912  Anil Chaurasia galian men bhi de sakta hon kyu...  OAG  \n",
       "913  Never opened his mouth when PM..now he speaks....  OAG  \n",
       "914   Chit fund operators  n loan sharks r more honest  CAG  \n",
       "915  Bloody chela of Sonia. If he would have spoken...  OAG  \n",
       "\n",
       "[916 rows x 3 columns]"
      ]
     },
     "execution_count": 290,
     "metadata": {},
     "output_type": "execute_result"
    }
   ],
   "source": [
    "df_test_validation"
   ]
  },
  {
   "cell_type": "code",
   "execution_count": 291,
   "id": "6e8c3d04",
   "metadata": {},
   "outputs": [
    {
     "data": {
      "text/html": [
       "<div>\n",
       "<style scoped>\n",
       "    .dataframe tbody tr th:only-of-type {\n",
       "        vertical-align: middle;\n",
       "    }\n",
       "\n",
       "    .dataframe tbody tr th {\n",
       "        vertical-align: top;\n",
       "    }\n",
       "\n",
       "    .dataframe thead th {\n",
       "        text-align: right;\n",
       "    }\n",
       "</style>\n",
       "<table border=\"1\" class=\"dataframe\">\n",
       "  <thead>\n",
       "    <tr style=\"text-align: right;\">\n",
       "      <th></th>\n",
       "      <th>unique_id</th>\n",
       "      <th>text</th>\n",
       "      <th>aggression-level</th>\n",
       "    </tr>\n",
       "  </thead>\n",
       "  <tbody>\n",
       "    <tr>\n",
       "      <th>0</th>\n",
       "      <td>facebook_corpus_msr_396174</td>\n",
       "      <td>If government of india don't take strict actio...</td>\n",
       "      <td>NAG</td>\n",
       "    </tr>\n",
       "    <tr>\n",
       "      <th>1</th>\n",
       "      <td>facebook_corpus_msr_422473</td>\n",
       "      <td>So now we know. The women should be under the ...</td>\n",
       "      <td>NAG</td>\n",
       "    </tr>\n",
       "    <tr>\n",
       "      <th>2</th>\n",
       "      <td>facebook_corpus_msr_341422</td>\n",
       "      <td>गद्दारो तुमसे ही तो खतरा है अबकी बार साफ हो जाओगे</td>\n",
       "      <td>NAG</td>\n",
       "    </tr>\n",
       "    <tr>\n",
       "      <th>3</th>\n",
       "      <td>facebook_corpus_msr_481654</td>\n",
       "      <td>Do you think markets are gonna be sideways til...</td>\n",
       "      <td>NAG</td>\n",
       "    </tr>\n",
       "    <tr>\n",
       "      <th>4</th>\n",
       "      <td>facebook_corpus_msr_427757</td>\n",
       "      <td>Jago Urjut Jago....\\nSave common people from\\n...</td>\n",
       "      <td>NAG</td>\n",
       "    </tr>\n",
       "    <tr>\n",
       "      <th>...</th>\n",
       "      <td>...</td>\n",
       "      <td>...</td>\n",
       "      <td>...</td>\n",
       "    </tr>\n",
       "    <tr>\n",
       "      <th>911</th>\n",
       "      <td>facebook_corpus_msr_322509</td>\n",
       "      <td>Where is that illegitimate kid o communists, c...</td>\n",
       "      <td>CAG</td>\n",
       "    </tr>\n",
       "    <tr>\n",
       "      <th>912</th>\n",
       "      <td>facebook_corpus_msr_397216</td>\n",
       "      <td>Anil Chaurasia galian men bhi de sakta hon kyu...</td>\n",
       "      <td>OAG</td>\n",
       "    </tr>\n",
       "    <tr>\n",
       "      <th>913</th>\n",
       "      <td>facebook_corpus_msr_466506</td>\n",
       "      <td>Never opened his mouth when PM..now he speaks....</td>\n",
       "      <td>OAG</td>\n",
       "    </tr>\n",
       "    <tr>\n",
       "      <th>914</th>\n",
       "      <td>facebook_corpus_msr_441285</td>\n",
       "      <td>Chit fund operators  n loan sharks r more honest</td>\n",
       "      <td>CAG</td>\n",
       "    </tr>\n",
       "    <tr>\n",
       "      <th>915</th>\n",
       "      <td>facebook_corpus_msr_466859</td>\n",
       "      <td>Bloody chela of Sonia. If he would have spoken...</td>\n",
       "      <td>OAG</td>\n",
       "    </tr>\n",
       "  </tbody>\n",
       "</table>\n",
       "<p>916 rows × 3 columns</p>\n",
       "</div>"
      ],
      "text/plain": [
       "                      unique_id  \\\n",
       "0    facebook_corpus_msr_396174   \n",
       "1    facebook_corpus_msr_422473   \n",
       "2    facebook_corpus_msr_341422   \n",
       "3    facebook_corpus_msr_481654   \n",
       "4    facebook_corpus_msr_427757   \n",
       "..                          ...   \n",
       "911  facebook_corpus_msr_322509   \n",
       "912  facebook_corpus_msr_397216   \n",
       "913  facebook_corpus_msr_466506   \n",
       "914  facebook_corpus_msr_441285   \n",
       "915  facebook_corpus_msr_466859   \n",
       "\n",
       "                                                  text aggression-level  \n",
       "0    If government of india don't take strict actio...              NAG  \n",
       "1    So now we know. The women should be under the ...              NAG  \n",
       "2    गद्दारो तुमसे ही तो खतरा है अबकी बार साफ हो जाओगे              NAG  \n",
       "3    Do you think markets are gonna be sideways til...              NAG  \n",
       "4    Jago Urjut Jago....\\nSave common people from\\n...              NAG  \n",
       "..                                                 ...              ...  \n",
       "911  Where is that illegitimate kid o communists, c...              CAG  \n",
       "912  Anil Chaurasia galian men bhi de sakta hon kyu...              OAG  \n",
       "913  Never opened his mouth when PM..now he speaks....              OAG  \n",
       "914   Chit fund operators  n loan sharks r more honest              CAG  \n",
       "915  Bloody chela of Sonia. If he would have spoken...              OAG  \n",
       "\n",
       "[916 rows x 3 columns]"
      ]
     },
     "execution_count": 291,
     "metadata": {},
     "output_type": "execute_result"
    }
   ],
   "source": [
    "df = df.rename(columns={0: \"unique_id\", 1: \"text\", 2: \"aggression-level\"})\n",
    "df_test = df_test.rename(columns={0: \"unique_id\", 1: \"text\"})\n",
    "df_test_validation = df_test_validation.rename(columns={0: \"unique_id\", 1: \"text\", 2: \"aggression-level\"})\n",
    "\n",
    "df_test_validation"
   ]
  },
  {
   "cell_type": "code",
   "execution_count": 292,
   "id": "2559bba3",
   "metadata": {},
   "outputs": [
    {
     "data": {
      "text/plain": [
       "unique_id           0\n",
       "text                0\n",
       "aggression-level    0\n",
       "dtype: int64"
      ]
     },
     "execution_count": 292,
     "metadata": {},
     "output_type": "execute_result"
    }
   ],
   "source": [
    "df.isnull().sum()"
   ]
  },
  {
   "cell_type": "code",
   "execution_count": 293,
   "id": "f252f73a",
   "metadata": {},
   "outputs": [
    {
     "data": {
      "text/plain": [
       "array(['CAG', 'NAG', 'OAG'], dtype=object)"
      ]
     },
     "execution_count": 293,
     "metadata": {},
     "output_type": "execute_result"
    }
   ],
   "source": [
    "df['aggression-level'].unique()"
   ]
  },
  {
   "cell_type": "code",
   "execution_count": 294,
   "id": "7e89f1af",
   "metadata": {},
   "outputs": [
    {
     "data": {
      "text/plain": [
       "<AxesSubplot:>"
      ]
     },
     "execution_count": 294,
     "metadata": {},
     "output_type": "execute_result"
    },
    {
     "data": {
      "image/png": "[encoded data removed]",
      "text/plain": [
       "<Figure size 640x480 with 1 Axes>"
      ]
     },
     "metadata": {},
     "output_type": "display_data"
    }
   ],
   "source": [
    "df['aggression-level'].hist()\n"
   ]
  },
  {
   "cell_type": "code",
   "execution_count": 295,
   "id": "4202a400",
   "metadata": {},
   "outputs": [
    {
     "data": {
      "text/html": [
       "<div>\n",
       "<style scoped>\n",
       "    .dataframe tbody tr th:only-of-type {\n",
       "        vertical-align: middle;\n",
       "    }\n",
       "\n",
       "    .dataframe tbody tr th {\n",
       "        vertical-align: top;\n",
       "    }\n",
       "\n",
       "    .dataframe thead th {\n",
       "        text-align: right;\n",
       "    }\n",
       "</style>\n",
       "<table border=\"1\" class=\"dataframe\">\n",
       "  <thead>\n",
       "    <tr style=\"text-align: right;\">\n",
       "      <th></th>\n",
       "      <th>unique_id</th>\n",
       "      <th>text</th>\n",
       "      <th>aggression-level</th>\n",
       "    </tr>\n",
       "  </thead>\n",
       "  <tbody>\n",
       "    <tr>\n",
       "      <th>count</th>\n",
       "      <td>3001</td>\n",
       "      <td>3001</td>\n",
       "      <td>3001</td>\n",
       "    </tr>\n",
       "    <tr>\n",
       "      <th>unique</th>\n",
       "      <td>3001</td>\n",
       "      <td>2969</td>\n",
       "      <td>3</td>\n",
       "    </tr>\n",
       "    <tr>\n",
       "      <th>top</th>\n",
       "      <td>facebook_corpus_msr_451811</td>\n",
       "      <td>Fake</td>\n",
       "      <td>NAG</td>\n",
       "    </tr>\n",
       "    <tr>\n",
       "      <th>freq</th>\n",
       "      <td>1</td>\n",
       "      <td>5</td>\n",
       "      <td>1233</td>\n",
       "    </tr>\n",
       "  </tbody>\n",
       "</table>\n",
       "</div>"
      ],
      "text/plain": [
       "                         unique_id  text aggression-level\n",
       "count                         3001  3001             3001\n",
       "unique                        3001  2969                3\n",
       "top     facebook_corpus_msr_451811  Fake              NAG\n",
       "freq                             1     5             1233"
      ]
     },
     "execution_count": 295,
     "metadata": {},
     "output_type": "execute_result"
    }
   ],
   "source": [
    "df.describe()\n"
   ]
  },
  {
   "cell_type": "code",
   "execution_count": 296,
   "id": "05720a53",
   "metadata": {},
   "outputs": [
    {
     "name": "stderr",
     "output_type": "stream",
     "text": [
      "[nltk_data] Downloading package punkt to\n",
      "[nltk_data]     C:\\Users\\ALL\\AppData\\Roaming\\nltk_data...\n",
      "[nltk_data]   Package punkt is already up-to-date!\n",
      "[nltk_data] Downloading package averaged_perceptron_tagger to\n",
      "[nltk_data]     C:\\Users\\ALL\\AppData\\Roaming\\nltk_data...\n",
      "[nltk_data]   Package averaged_perceptron_tagger is already up-to-\n",
      "[nltk_data]       date!\n"
     ]
    },
    {
     "name": "stdout",
     "output_type": "stream",
     "text": [
      "0      [IN, NN, IN, NNS, VBP, RB, VB, JJ, NN, IN, NNP...\n",
      "1      [RB, RB, PRP, VBP, ., DT, NNS, MD, VB, IN, DT,...\n",
      "2      [JJ, NNP, NNP, NNP, NNP, NNP, NNP, NNP, NNP, N...\n",
      "3      [VBP, PRP, VB, NNS, VBP, VBG, RB, VB, NNS, VB,...\n",
      "4      [NNP, NNP, NNP, NNP, NNP, JJ, NNS, IN, VBG, JJ...\n",
      "                             ...                        \n",
      "911    [WRB, VBZ, IN, JJ, NNS, JJ, NNS, ,, NN, ,, VBZ...\n",
      "912    [NNP, NNP, JJ, NNS, FW, FW, FW, NN, NN, NN, NN...\n",
      "913    [RB, VBN, PRP$, NN, WRB, NNP, RB, RB, PRP, VBZ...\n",
      "914           [NNP, NN, NNS, VBP, NN, NNS, VBP, JJR, NN]\n",
      "915    [NNP, NN, IN, NNP, ., IN, PRP, MD, VB, VBN, DT...\n",
      "Name: pos_tags, Length: 916, dtype: object\n"
     ]
    }
   ],
   "source": [
    "# Download the required NLTK resources\n",
    "nltk.download('punkt')\n",
    "nltk.download('averaged_perceptron_tagger')\n",
    "\n",
    "# Function to apply POS tagging on a sentence\n",
    "def pos_tagging(sentence):\n",
    "    words = word_tokenize(sentence)  # Tokenize the sentence into words\n",
    "    pos_tags = nltk.pos_tag(words)  # Perform POS tagging\n",
    "    tags_only = [tag for _, tag in pos_tags]  # Extract only the tags\n",
    "    return tags_only\n",
    "\n",
    "# Apply POS tagging on the 'text' column\n",
    "df['pos_tags'] = df['text'].apply(pos_tagging)\n",
    "df_test['pos_tags'] = df_test['text'].apply(pos_tagging)\n",
    "\n",
    "# Print the resulting dataframe\n",
    "print(df_test['pos_tags'])\n"
   ]
  },
  {
   "cell_type": "code",
   "execution_count": 297,
   "id": "274190fb",
   "metadata": {},
   "outputs": [
    {
     "name": "stdout",
     "output_type": "stream",
     "text": [
      "Accuracy of Naive Bayes: 0.5511496167944019\n"
     ]
    }
   ],
   "source": [
    "\n",
    "\n",
    "train_labels = df['aggression-level']\n",
    "tfidf_vectorizer1 = TfidfVectorizer(max_features=5000, min_df=2, max_df=0.9, ngram_range=(1,2))\n",
    "\n",
    "# Convert lists to strings\n",
    "train_pos = [' '.join(tags) for tags in df['pos_tags']]\n",
    "test_pos = [' '.join(tags) for tags in df['pos_tags']]\n",
    "\n",
    "# Perform vectorization\n",
    "train_pos = tfidf_vectorizer1.fit_transform(train_pos)\n",
    "test_pos = tfidf_vectorizer1.transform(test_pos)\n",
    "\n",
    "clf = MultinomialNB(alpha=0.1).fit(train_pos, train_labels)\n",
    "predicted = clf.predict(train_pos)\n",
    "\n",
    "from sklearn.metrics import accuracy_score\n",
    "accuracy = accuracy_score(train_labels, predicted)\n",
    "print(\"Accuracy of Naive Bayes:\", accuracy)\n",
    "\n",
    "\n"
   ]
  },
  {
   "cell_type": "code",
   "execution_count": 298,
   "id": "9c710f71",
   "metadata": {},
   "outputs": [
    {
     "name": "stdout",
     "output_type": "stream",
     "text": [
      "Accuracy of RandomForestClassifier: 0.9856714428523825\n"
     ]
    }
   ],
   "source": [
    " \n",
    "\n",
    "# Extract labels from the DataFrame\n",
    "train_labels = df['aggression-level']\n",
    "\n",
    "# Convert lists to strings\n",
    "train_pos = [' '.join(tags) for tags in df['pos_tags']]\n",
    "test_pos = [' '.join(tags) for tags in df_test['pos_tags']]\n",
    "\n",
    "# Create and fit the TF-IDF vectorizer\n",
    "tfidf_vectorizer = TfidfVectorizer(max_features=5000, min_df=2, max_df=0.9, ngram_range=(1,2))\n",
    "train_pos = tfidf_vectorizer.fit_transform(train_pos)\n",
    "test_pos = tfidf_vectorizer.transform(test_pos)\n",
    "\n",
    "# Create and train the random forest classifier\n",
    "clf = RandomForestClassifier()\n",
    "clf.fit(train_pos, train_labels)\n",
    "\n",
    "# Make predictions on the test data\n",
    "predicted = clf.predict(train_pos)\n",
    "\n",
    "# Calculate accuracy\n",
    "accuracy = accuracy_score(train_labels, predicted)\n",
    "print(\"Accuracy of RandomForestClassifier:\", accuracy)\n"
   ]
  },
  {
   "cell_type": "code",
   "execution_count": 299,
   "id": "f4b0b521",
   "metadata": {},
   "outputs": [
    {
     "name": "stdout",
     "output_type": "stream",
     "text": [
      "Accuracy of Logistic Regression with L1 regularization: 0.5171609463512162\n"
     ]
    }
   ],
   "source": [
    " \n",
    "\n",
    "# Extract labels from the DataFrame\n",
    "train_labels = df['aggression-level']\n",
    "\n",
    "# Convert lists to strings\n",
    "train_pos = [' '.join(tags) for tags in df['pos_tags']]\n",
    "\n",
    "# Create and fit the TF-IDF vectorizer\n",
    "tfidf_vectorizer = TfidfVectorizer(max_features=5000, min_df=2, max_df=0.9, ngram_range=(1,2))\n",
    "train_pos = tfidf_vectorizer.fit_transform(train_pos)\n",
    "\n",
    "# Create and train the logistic regression classifier with L1 regularization\n",
    "clf = LogisticRegression(penalty='l1', solver='saga')\n",
    "clf.fit(train_pos, train_labels)\n",
    "\n",
    "# Make predictions on the training data\n",
    "predicted = clf.predict(train_pos)\n",
    "\n",
    "# Calculate accuracy\n",
    "accuracy = accuracy_score(train_labels, predicted)\n",
    "print(\"Accuracy of Logistic Regression with L1 regularization:\", accuracy)\n"
   ]
  },
  {
   "cell_type": "code",
   "execution_count": 300,
   "id": "ba5bd2d4",
   "metadata": {},
   "outputs": [
    {
     "name": "stdout",
     "output_type": "stream",
     "text": [
      "Accuracy of LinearSVC: 0.6227924025324891\n"
     ]
    }
   ],
   "source": [
    " \n",
    "\n",
    "# Extract labels from the DataFrame\n",
    "train_labels = df['aggression-level']\n",
    "\n",
    "# Convert lists to strings\n",
    "train_pos = [' '.join(tags) for tags in df['pos_tags']]\n",
    "\n",
    "# Create and fit the TF-IDF vectorizer\n",
    "tfidf_vectorizer = TfidfVectorizer(max_features=5000, min_df=2, max_df=0.9, ngram_range=(1,2))\n",
    "train_pos = tfidf_vectorizer.fit_transform(train_pos)\n",
    "\n",
    "# Create and train the linear SVM classifier\n",
    "clf = LinearSVC()\n",
    "clf.fit(train_pos, train_labels)\n",
    "\n",
    "# Make predictions on the training data\n",
    "predicted = clf.predict(train_pos)\n",
    "\n",
    "# Calculate accuracy\n",
    "accuracy = accuracy_score(train_labels, predicted)\n",
    "print(\"Accuracy of LinearSVC:\", accuracy)\n"
   ]
  },
  {
   "cell_type": "code",
   "execution_count": 301,
   "id": "b06a55ee",
   "metadata": {},
   "outputs": [
    {
     "name": "stdout",
     "output_type": "stream",
     "text": [
      "Accuracy of Logistic Regression with L2 regularization: 0.5734755081639453\n"
     ]
    }
   ],
   "source": [
    " \n",
    "\n",
    "# Extract labels from the DataFrame\n",
    "train_labels = df['aggression-level']\n",
    "\n",
    "# Convert lists to strings\n",
    "train_pos = [' '.join(tags) for tags in df['pos_tags']]\n",
    "\n",
    "# Create and fit the TF-IDF vectorizer\n",
    "tfidf_vectorizer = TfidfVectorizer(max_features=5000, min_df=2, max_df=0.9, ngram_range=(1,2))\n",
    "train_pos = tfidf_vectorizer.fit_transform(train_pos)\n",
    "\n",
    "# Create and train the logistic regression classifier with L1 regularization\n",
    "clf = LogisticRegression(penalty='l2', solver='lbfgs')\n",
    "clf.fit(train_pos, train_labels)\n",
    "\n",
    "# Make predictions on the training data\n",
    "predicted = clf.predict(train_pos)\n",
    "\n",
    "# Calculate accuracy\n",
    "accuracy = accuracy_score(train_labels, predicted)\n",
    "print(\"Accuracy of Logistic Regression with L2 regularization:\", accuracy)\n"
   ]
  },
  {
   "cell_type": "code",
   "execution_count": 302,
   "id": "4b1ac14c",
   "metadata": {},
   "outputs": [
    {
     "name": "stdout",
     "output_type": "stream",
     "text": [
      "Accuracy of Decision Tree: 0.9856714428523825\n"
     ]
    }
   ],
   "source": [
    " \n",
    "# Extract labels from the DataFrame\n",
    "train_labels = df['aggression-level']\n",
    "\n",
    "# Convert lists to strings\n",
    "train_pos = [' '.join(tags) for tags in df['pos_tags']]\n",
    "test_pos = [' '.join(tags) for tags in df_test['pos_tags']]\n",
    "\n",
    "# Create and fit the TF-IDF vectorizer\n",
    "tfidf_vectorizer = TfidfVectorizer(max_features=5000, min_df=2, max_df=0.9, ngram_range=(1,2))\n",
    "train_pos = tfidf_vectorizer.fit_transform(train_pos)\n",
    "test_pos = tfidf_vectorizer.transform(test_pos)\n",
    "\n",
    "# Create and train the decision tree classifier\n",
    "clf = DecisionTreeClassifier()\n",
    "clf.fit(train_pos, train_labels)\n",
    "\n",
    "# Make predictions on the test data\n",
    "predicted = clf.predict(train_pos)\n",
    "\n",
    "# Calculate accuracy\n",
    "accuracy = accuracy_score(train_labels, predicted)\n",
    "print(\"Accuracy of Decision Tree:\", accuracy)\n"
   ]
  },
  {
   "cell_type": "code",
   "execution_count": 303,
   "id": "a3e1ca03",
   "metadata": {},
   "outputs": [
    {
     "name": "stdout",
     "output_type": "stream",
     "text": [
      "Precision Score: 0.9857581048750808\n",
      "Recall: 0.9856714428523825\n",
      "F1 Score: 0.9856532011563266\n"
     ]
    }
   ],
   "source": [
    "precision = precision_score(train_labels, predicted, average='weighted')\n",
    "print(\"Precision Score:\", precision)\n",
    "\n",
    "# Calculate recall\n",
    "recall = recall_score(train_labels, predicted, average='weighted')\n",
    "print(\"Recall:\", recall)\n",
    "\n",
    "# Calculate F1 score\n",
    "f1 = f1_score(train_labels, predicted, average='weighted')\n",
    "print(\"F1 Score:\", f1)"
   ]
  },
  {
   "cell_type": "code",
   "execution_count": 305,
   "id": "70460dea",
   "metadata": {},
   "outputs": [
    {
     "data": {
      "image/png": "[encoded data removed]",
      "text/plain": [
       "<Figure size 800x600 with 2 Axes>"
      ]
     },
     "metadata": {},
     "output_type": "display_data"
    }
   ],
   "source": [
    " \n",
    "# Create confusion matrix\n",
    "confusion = confusion_matrix(train_labels, predicted)\n",
    "labels = clf.classes_\n",
    "confusion_df = pd.DataFrame(confusion, index=labels, columns=labels)\n",
    "\n",
    "# Plot confusion matrix\n",
    "plt.figure(figsize=(8, 6))\n",
    "sns.heatmap(confusion_df, annot=True, fmt=\"d\", cmap=\"Blues\")\n",
    "plt.title(\"Confusion Matrix\")\n",
    "plt.xlabel(\"Predicted Labels by Decision Tree\")\n",
    "plt.ylabel(\"True Labels\")\n",
    "plt.show()\n"
   ]
  },
  {
   "cell_type": "code",
   "execution_count": null,
   "id": "51bf6118",
   "metadata": {},
   "outputs": [],
   "source": []
  },
  {
   "cell_type": "code",
   "execution_count": null,
   "id": "f8cb6a2b",
   "metadata": {},
   "outputs": [],
   "source": []
  }
 ],
 "metadata": {
  "kernelspec": {
   "display_name": "Python 3 (ipykernel)",
   "language": "python",
   "name": "python3"
  },
  "language_info": {
   "codemirror_mode": {
    "name": "ipython",
    "version": 3
   },
   "file_extension": ".py",
   "mimetype": "text/x-python",
   "name": "python",
   "nbconvert_exporter": "python",
   "pygments_lexer": "ipython3",
   "version": "3.9.13"
  }
 },
 "nbformat": 4,
 "nbformat_minor": 5
}
